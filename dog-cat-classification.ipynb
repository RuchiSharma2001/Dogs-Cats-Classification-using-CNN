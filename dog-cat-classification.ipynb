{
 "cells": [
  {
   "cell_type": "code",
   "execution_count": 26,
   "id": "b1a07200-5162-4845-8e4a-f383e1704cc9",
   "metadata": {},
   "outputs": [],
   "source": [
    "import numpy as nm\n",
    "import cv2   #convert images into array\n",
    "import os\n",
    "import matplotlib.pyplot as pp\n",
    "import random\n",
    "import pickle"
   ]
  },
  {
   "cell_type": "code",
   "execution_count": 4,
   "id": "4b5e176b-018c-41f7-a4b9-2d8dc63631bd",
   "metadata": {},
   "outputs": [],
   "source": [
    "DIRECTORY=r'C:\\Users\\Rajendra Sharma\\Downloads\\dogscats\\dataset'\n",
    "CATEGORIES=['cat','dog']"
   ]
  },
  {
   "cell_type": "code",
   "execution_count": 22,
   "id": "3b7cfac6-d592-421c-95f9-f3b15ca77618",
   "metadata": {},
   "outputs": [],
   "source": [
    "IMG_SIZE = 100\n",
    "data = []\n",
    "for category in CATEGORIES:\n",
    "    folder=os.path.join(DIRECTORY,category)\n",
    "    label=CATEGORIES.index(category)\n",
    "    for img in os.listdir(folder):\n",
    "        img_path=os.path.join(folder,img)\n",
    "        img_arr = cv2.imread(img_path)\n",
    "        img_arr= cv2.resize(img_arr,(IMG_SIZE,IMG_SIZE))\n",
    "        data.append([img_arr,label])\n",
    "        "
   ]
  },
  {
   "cell_type": "code",
   "execution_count": 23,
   "id": "ec4cc2dd-93b3-4f40-b7cb-fd4f922ae43d",
   "metadata": {},
   "outputs": [
    {
     "data": {
      "text/plain": [
       "2000"
      ]
     },
     "execution_count": 23,
     "metadata": {},
     "output_type": "execute_result"
    }
   ],
   "source": [
    "len(data)"
   ]
  },
  {
   "cell_type": "code",
   "execution_count": 27,
   "id": "0f97bcff-4235-4edd-bb80-e1b79f859c89",
   "metadata": {},
   "outputs": [],
   "source": [
    "random.shuffle(data)"
   ]
  },
  {
   "cell_type": "code",
   "execution_count": 30,
   "id": "bbcfc6e7-c6ba-4808-8666-3a7c5e6d4509",
   "metadata": {},
   "outputs": [],
   "source": [
    "x=[]\n",
    "y=[]\n",
    "for features,labels in data:\n",
    "    x.append(features)\n",
    "    y.append(labels)"
   ]
  },
  {
   "cell_type": "code",
   "execution_count": 31,
   "id": "07012429-029d-40ec-8910-698c71ebe59f",
   "metadata": {},
   "outputs": [],
   "source": [
    "x=nm.array(x)\n",
    "y=nm.array(y)"
   ]
  },
  {
   "cell_type": "code",
   "execution_count": 37,
   "id": "05d2dca4-07d4-4434-af9b-39afda8f8648",
   "metadata": {},
   "outputs": [],
   "source": [
    "pickle.dump(x,open('x.pkl','wb'))\n",
    "pickle.dump(y,open('y.pkl','wb'))"
   ]
  },
  {
   "cell_type": "code",
   "execution_count": null,
   "id": "2bbf45f5-2b32-4a3c-94ad-31ebaffbeb95",
   "metadata": {},
   "outputs": [],
   "source": []
  }
 ],
 "metadata": {
  "kernelspec": {
   "display_name": "Python 3 (ipykernel)",
   "language": "python",
   "name": "python3"
  },
  "language_info": {
   "codemirror_mode": {
    "name": "ipython",
    "version": 3
   },
   "file_extension": ".py",
   "mimetype": "text/x-python",
   "name": "python",
   "nbconvert_exporter": "python",
   "pygments_lexer": "ipython3",
   "version": "3.8.2"
  }
 },
 "nbformat": 4,
 "nbformat_minor": 5
}
